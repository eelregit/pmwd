{
 "cells": [
  {
   "cell_type": "markdown",
   "id": "29237420",
   "metadata": {
    "slideshow": {
     "slide_type": "slide"
    }
   },
   "source": [
    "# Quickstart"
   ]
  },
  {
   "cell_type": "code",
   "execution_count": 1,
   "id": "3cb2b7b8",
   "metadata": {
    "cell_style": "center",
    "slideshow": {
     "slide_type": "subslide"
    },
    "tags": []
   },
   "outputs": [
    {
     "name": "stdout",
     "output_type": "stream",
     "text": [
      "NVIDIA H100 PCIe\r\n"
     ]
    }
   ],
   "source": [
    "import os\n",
    "\n",
    "# uncomment to disable NVIDIA GPUs\n",
    "#os.environ['CUDA_VISIBLE_DEVICES'] = ''\n",
    "# or pick the device (cpu, gpu, and tpu)\n",
    "#os.environ['JAX_PLATFORMS'] = 'cpu'\n",
    "\n",
    "# change JAX GPU memory preallocation fraction\n",
    "os.environ['XLA_PYTHON_CLIENT_MEM_FRACTION'] = '.95'\n",
    "\n",
    "# you do not want this\n",
    "#os.environ['XLA_FLAGS'] = '--xla_gpu_deterministic_ops=true'\n",
    "\n",
    "import jax\n",
    "#jax.print_environment_info()\n",
    "\n",
    "!nvidia-smi --query-gpu=gpu_name --format=csv,noheader"
   ]
  },
  {
   "cell_type": "code",
   "execution_count": 2,
   "id": "aaaee7c1",
   "metadata": {
    "slideshow": {
     "slide_type": "subslide"
    },
    "tags": []
   },
   "outputs": [],
   "source": [
    "import matplotlib.pyplot as plt\n",
    "\n",
    "from pmwd import (\n",
    "    Configuration,\n",
    "    Cosmology, SimpleLCDM,\n",
    "    boltzmann, linear_power, growth,\n",
    "    white_noise, linear_modes,\n",
    "    lpt,\n",
    "    nbody,\n",
    "    scatter,\n",
    ")\n",
    "from pmwd.pm_util import fftinv\n",
    "from pmwd.spec_util import powspec\n",
    "from pmwd.vis_util import simshow"
   ]
  },
  {
   "cell_type": "markdown",
   "id": "c6c7edc8",
   "metadata": {
    "slideshow": {
     "slide_type": "slide"
    }
   },
   "source": [
    "## Simulate Forward"
   ]
  },
  {
   "cell_type": "markdown",
   "id": "0e49bfa5",
   "metadata": {
    "slideshow": {
     "slide_type": "subslide"
    }
   },
   "source": [
    "`Configuration` stores static configuration and parameters for which we do not need derivatives."
   ]
  },
  {
   "cell_type": "code",
   "execution_count": 3,
   "id": "e03a1c7f-3ca4-479c-8052-3bfef6fd55d1",
   "metadata": {
    "cell_style": "center",
    "slideshow": {
     "slide_type": "-"
    },
    "tags": []
   },
   "outputs": [],
   "source": [
    "if jax.default_backend() == 'gpu':\n",
    "    ptcl_spacing = 1.  # Lagrangian space Cartesian particle grid spacing, in Mpc/h by default\n",
    "    ptcl_grid_shape = (256,) * 3\n",
    "else:\n",
    "    ptcl_spacing = 4.\n",
    "    ptcl_grid_shape = (64,) * 3\n",
    "\n",
    "conf = Configuration(ptcl_spacing, ptcl_grid_shape, mesh_shape=2)  # 2x mesh shape"
   ]
  },
  {
   "cell_type": "code",
   "execution_count": 4,
   "id": "5c0f1402",
   "metadata": {
    "slideshow": {
     "slide_type": "subslide"
    },
    "tags": []
   },
   "outputs": [
    {
     "name": "stdout",
     "output_type": "stream",
     "text": [
      "Configuration(ptcl_spacing=1.0,\n",
      "              ptcl_grid_shape=(256, 256, 256),\n",
      "              mesh_shape=(512, 512, 512),\n",
      "              cosmo_dtype=dtype('float64'),\n",
      "              pmid_dtype=dtype('int16'),\n",
      "              float_dtype=dtype('float32'),\n",
      "              k_pivot_Mpc=0.05,\n",
      "              T_cmb=2.7255,\n",
      "              M=1.98847e+40,\n",
      "              L=3.0856775815e+22,\n",
      "              T=3.0856775815e+17,\n",
      "              transfer_fit=True,\n",
      "              transfer_fit_nowiggle=False,\n",
      "              transfer_lgk_min=-4,\n",
      "              transfer_lgk_max=3,\n",
      "              transfer_lgk_maxstep=0.0078125,\n",
      "              growth_rtol=1.4901161193847656e-08,\n",
      "              growth_atol=1.4901161193847656e-08,\n",
      "              growth_inistep=(1, None),\n",
      "              lpt_order=2,\n",
      "              a_start=0.015625,\n",
      "              a_stop=1,\n",
      "              a_lpt_maxstep=0.0078125,\n",
      "              a_nbody_maxstep=0.015625,\n",
      "              symp_splits=((0, 0.5), (1, 0.5)),\n",
      "              chunk_size=16777216)\n",
      "Simulating 16777216 particles with a (512, 512, 512) mesh for 63 time steps.\n"
     ]
    }
   ],
   "source": [
    "print(conf)  # with other default parameters\n",
    "print(f'Simulating {conf.ptcl_num} particles with a {conf.mesh_shape} mesh for {conf.a_nbody_num} time steps.')"
   ]
  },
  {
   "cell_type": "markdown",
   "id": "3249f227",
   "metadata": {
    "slideshow": {
     "slide_type": "subslide"
    }
   },
   "source": [
    "`Cosmology` stores interesting parameters, whose derivatives we need."
   ]
  },
  {
   "cell_type": "code",
   "execution_count": 5,
   "id": "e36a1ae7",
   "metadata": {
    "tags": []
   },
   "outputs": [
    {
     "name": "stdout",
     "output_type": "stream",
     "text": [
      "Cosmology(A_s_1e9=Array(2., dtype=float64),\n",
      "          n_s=Array(0.96, dtype=float64),\n",
      "          Omega_m=Array(0.3, dtype=float64),\n",
      "          Omega_b=Array(0.05, dtype=float64),\n",
      "          h=Array(0.7, dtype=float64),\n",
      "          Omega_k_=None,\n",
      "          w_0_=None,\n",
      "          w_a_=None,\n",
      "          transfer=None,\n",
      "          growth=None,\n",
      "          varlin=None)\n"
     ]
    }
   ],
   "source": [
    "cosmo = Cosmology(conf, A_s_1e9=2.0, n_s=0.96, Omega_m=0.3, Omega_b=0.05, h=0.7)\n",
    "# or simply use the predefined SimpleLCDM\n",
    "#cosmo = SimpleLCDM(conf)\n",
    "\n",
    "print(cosmo)"
   ]
  },
  {
   "cell_type": "markdown",
   "id": "bf4e3d4f",
   "metadata": {
    "slideshow": {
     "slide_type": "subslide"
    }
   },
   "source": [
    "``boltzmann`` computes the transfer and growth functions and caches them in ``Cosmology``.\n",
    "\n",
    "The first run is slower because it includes the **JIT compilation** time. JAX uses **asynchronous dispatch** to hide Python overheads. To measure the true cost, use ``jax.block_until_ready()`` to wait for the computation to complete."
   ]
  },
  {
   "cell_type": "code",
   "execution_count": 6,
   "id": "8c5e7168",
   "metadata": {
    "tags": []
   },
   "outputs": [
    {
     "name": "stdout",
     "output_type": "stream",
     "text": [
      "CPU times: user 2.14 s, sys: 212 ms, total: 2.35 s\n",
      "Wall time: 2 s\n",
      "14.2 ms ± 21.5 µs per loop (mean ± std. dev. of 7 runs, 100 loops each)\n"
     ]
    }
   ],
   "source": [
    "%time cosmo = jax.block_until_ready(boltzmann(cosmo, conf))\n",
    "%timeit jax.block_until_ready(boltzmann(cosmo, conf))"
   ]
  },
  {
   "cell_type": "markdown",
   "id": "cf681169",
   "metadata": {
    "slideshow": {
     "slide_type": "subslide"
    }
   },
   "source": [
    "Generate a white noise field, and scale it with the linear power spectrum:"
   ]
  },
  {
   "cell_type": "code",
   "execution_count": 7,
   "id": "daaa93ce",
   "metadata": {
    "tags": []
   },
   "outputs": [],
   "source": [
    "seed = 0\n",
    "modes = white_noise(seed, conf)\n",
    "\n",
    "modes = linear_modes(modes, cosmo, conf)"
   ]
  },
  {
   "cell_type": "markdown",
   "id": "737cfc42",
   "metadata": {
    "slideshow": {
     "slide_type": "subslide"
    }
   },
   "source": [
    "Solve LPT at some early time:"
   ]
  },
  {
   "cell_type": "code",
   "execution_count": 8,
   "id": "db10419a",
   "metadata": {
    "tags": []
   },
   "outputs": [
    {
     "name": "stdout",
     "output_type": "stream",
     "text": [
      "CPU times: user 1.37 s, sys: 41.1 ms, total: 1.42 s\n",
      "Wall time: 821 ms\n",
      "8.93 ms ± 4.89 µs per loop (mean ± std. dev. of 7 runs, 100 loops each)\n"
     ]
    },
    {
     "data": {
      "text/plain": [
       "(Array(0.105, dtype=float32), Array(0.007, dtype=float32))"
      ]
     },
     "execution_count": 8,
     "metadata": {},
     "output_type": "execute_result"
    }
   ],
   "source": [
    "%time ptcl, obsvbl = jax.block_until_ready(lpt(modes, cosmo, conf))\n",
    "%timeit jax.block_until_ready(lpt(modes, cosmo, conf))\n",
    "ptcl.disp.std(), ptcl.vel.std()"
   ]
  },
  {
   "cell_type": "markdown",
   "id": "2f9435ac",
   "metadata": {
    "slideshow": {
     "slide_type": "subslide"
    }
   },
   "source": [
    "Finally, N-body time integration from the LPT initial conditions:"
   ]
  },
  {
   "cell_type": "code",
   "execution_count": 9,
   "id": "440cab3f",
   "metadata": {
    "tags": []
   },
   "outputs": [
    {
     "name": "stdout",
     "output_type": "stream",
     "text": [
      "CPU times: user 3.31 s, sys: 618 ms, total: 3.93 s\n",
      "Wall time: 3.56 s\n",
      "CPU times: user 689 ms, sys: 543 ms, total: 1.23 s\n",
      "Wall time: 1.4 s\n"
     ]
    },
    {
     "data": {
      "text/plain": [
       "(Array(5.318, dtype=float32), Array(3.286, dtype=float32))"
      ]
     },
     "execution_count": 9,
     "metadata": {},
     "output_type": "execute_result"
    }
   ],
   "source": [
    "%time jax.block_until_ready(nbody(ptcl, obsvbl, cosmo, conf))\n",
    "%time ptcl, obsvbl = jax.block_until_ready(nbody(ptcl, obsvbl, cosmo, conf))\n",
    "ptcl.disp.std(), ptcl.vel.std()"
   ]
  },
  {
   "cell_type": "markdown",
   "id": "1d4b6c54",
   "metadata": {
    "slideshow": {
     "slide_type": "subslide"
    }
   },
   "source": [
    "Scatter the particles to mesh to get the density field, and plot a slab's 2D projection:"
   ]
  },
  {
   "cell_type": "code",
   "execution_count": 10,
   "id": "ac0a4dcf",
   "metadata": {
    "slideshow": {
     "slide_type": ""
    },
    "tags": []
   },
   "outputs": [
    {
     "data": {
      "image/jpeg": "[encoded data removed]",
      "text/plain": [
       "<Figure size 648x504 with 2 Axes>"
      ]
     },
     "metadata": {},
     "output_type": "display_data"
    }
   ],
   "source": [
    "dens = scatter(ptcl, conf)\n",
    "simshow(dens[:16].mean(axis=0), norm='CosmicWebNorm');"
   ]
  },
  {
   "cell_type": "markdown",
   "id": "5dbd7441-3cef-4721-be9f-1dffe9d07543",
   "metadata": {
    "slideshow": {
     "slide_type": "subslide"
    }
   },
   "source": [
    "Measure and plot the matter density power spectra:"
   ]
  },
  {
   "cell_type": "code",
   "execution_count": 11,
   "id": "7f424b83-c1d4-425a-a0a0-feadf1918d68",
   "metadata": {
    "tags": []
   },
   "outputs": [
    {
     "data": {
      "image/jpeg": "[encoded data removed]",
      "text/plain": [
       "<Figure size 480x360 with 1 Axes>"
      ]
     },
     "metadata": {},
     "output_type": "display_data"
    }
   ],
   "source": [
    "k, P, _, _ = powspec(dens, conf.cell_size)\n",
    "\n",
    "dens_lin = fftinv(modes, shape=conf.ptcl_grid_shape, norm=conf.ptcl_spacing)\n",
    "dens_lin *= growth(conf.a_stop, cosmo, conf)\n",
    "k_lin, P_lin, _, _ = powspec(dens_lin, conf.ptcl_spacing)\n",
    "\n",
    "P_linth = linear_power(k, conf.a_stop, cosmo, conf)\n",
    "\n",
    "plt.figure(figsize=(4, 3), dpi=120)\n",
    "plt.loglog(k, P_linth, ls='--', label='linear theory')\n",
    "plt.loglog(k_lin, P_lin, ls=':', label='linear')\n",
    "plt.loglog(k, P, ls='-', label='nonlinear')\n",
    "plt.legend();"
   ]
  },
  {
   "cell_type": "markdown",
   "id": "48748218",
   "metadata": {
    "slideshow": {
     "slide_type": "subslide"
    }
   },
   "source": [
    "We can combine all steps together:"
   ]
  },
  {
   "cell_type": "code",
   "execution_count": 12,
   "id": "07ff8ab8",
   "metadata": {
    "cell_style": "center",
    "tags": []
   },
   "outputs": [
    {
     "name": "stdout",
     "output_type": "stream",
     "text": [
      "Simulating 16777216 particles with a (512, 512, 512) mesh for 63 time steps.\n",
      "CPU times: user 711 ms, sys: 545 ms, total: 1.26 s\n",
      "Wall time: 1.43 s\n"
     ]
    }
   ],
   "source": [
    "cosmo = SimpleLCDM(conf)\n",
    "modes = white_noise(seed, conf)\n",
    "\n",
    "def model(modes, cosmo, conf):\n",
    "    cosmo = boltzmann(cosmo, conf)\n",
    "    modes = linear_modes(modes, cosmo, conf)\n",
    "    ptcl, obsvbl = lpt(modes, cosmo, conf)\n",
    "    ptcl, obsvbl = nbody(ptcl, obsvbl, cosmo, conf)\n",
    "    return ptcl, obsvbl\n",
    "\n",
    "print(f'Simulating {conf.ptcl_num} particles with a {conf.mesh_shape} mesh for {conf.a_nbody_num} time steps.')\n",
    "%time jax.block_until_ready(model(modes, cosmo, conf));"
   ]
  },
  {
   "cell_type": "markdown",
   "id": "8adba199",
   "metadata": {
    "slideshow": {
     "slide_type": "slide"
    }
   },
   "source": [
    "## Simulate Forward and Differentiate Backward"
   ]
  },
  {
   "cell_type": "markdown",
   "id": "a3aaa69a",
   "metadata": {
    "slideshow": {
     "slide_type": "subslide"
    }
   },
   "source": [
    "For the gradient, we use the same ``Configuration`` and ``Cosmology`` as before, but different white noise ``modes``."
   ]
  },
  {
   "cell_type": "code",
   "execution_count": 13,
   "id": "9a1e9378",
   "metadata": {
    "tags": []
   },
   "outputs": [],
   "source": [
    "seed = 1  # change the seed for a different realization, to be compared to the previous one in the objective\n",
    "modes = white_noise(seed, conf, real=True)  # this time we want real modes to look at their gradients"
   ]
  },
  {
   "cell_type": "markdown",
   "id": "33099d1d",
   "metadata": {
    "slideshow": {
     "slide_type": "subslide"
    }
   },
   "source": [
    "Define a simple MSE objective function between this and the previous realizations of density fields, and differentiate it with respect to the modes and cosmological parameters:"
   ]
  },
  {
   "cell_type": "code",
   "execution_count": 14,
   "id": "a8119a3f-3900-4d13-bfe7-e6d747dfb563",
   "metadata": {
    "tags": []
   },
   "outputs": [
    {
     "name": "stdout",
     "output_type": "stream",
     "text": [
      "Simulating 16777216 particles with a (512, 512, 512) mesh for 63 time steps, and then differentiating backward.\n",
      "CPU times: user 20.4 s, sys: 2.32 s, total: 22.7 s\n",
      "Wall time: 19.3 s\n",
      "CPU times: user 3.39 s, sys: 1.9 s, total: 5.29 s\n",
      "Wall time: 5.27 s\n"
     ]
    }
   ],
   "source": [
    "def obj(tgt_dens, modes, cosmo, conf):\n",
    "    cosmo = boltzmann(cosmo, conf)\n",
    "    modes = linear_modes(modes, cosmo, conf)\n",
    "    ptcl, obsvbl = lpt(modes, cosmo, conf)\n",
    "    ptcl, obsvbl = nbody(ptcl, obsvbl, cosmo, conf)\n",
    "    dens = scatter(ptcl, conf)\n",
    "    return (dens - tgt_dens).var()\n",
    "\n",
    "obj_grad = jax.grad(obj, argnums=(1, 2))\n",
    "\n",
    "print(f'Simulating {conf.ptcl_num} particles with a {conf.mesh_shape} mesh for {conf.a_nbody_num} time steps, '\n",
    "      'and then differentiating backward.')\n",
    "%time jax.block_until_ready(obj_grad(dens, modes, cosmo, conf))\n",
    "%time modes_grad, cosmo_grad = jax.block_until_ready(obj_grad(dens, modes, cosmo, conf))"
   ]
  },
  {
   "cell_type": "markdown",
   "id": "5767210d",
   "metadata": {
    "slideshow": {
     "slide_type": "subslide"
    }
   },
   "source": [
    "A slice of the mode gradients:"
   ]
  },
  {
   "cell_type": "code",
   "execution_count": 15,
   "id": "d7393d2b",
   "metadata": {
    "slideshow": {
     "slide_type": ""
    },
    "tags": []
   },
   "outputs": [
    {
     "data": {
      "image/jpeg": "[encoded data removed]",
      "text/plain": [
       "<Figure size 648x504 with 2 Axes>"
      ]
     },
     "metadata": {},
     "output_type": "display_data"
    }
   ],
   "source": [
    "simshow(modes_grad[..., 0], cmap='RdBu_r', vmin=-0.04, vmax=0.04);"
   ]
  },
  {
   "cell_type": "markdown",
   "id": "c39ebbe8",
   "metadata": {
    "slideshow": {
     "slide_type": "subslide"
    }
   },
   "source": [
    "Cosmological parameter gradients:"
   ]
  },
  {
   "cell_type": "code",
   "execution_count": 16,
   "id": "65e1656e",
   "metadata": {
    "slideshow": {
     "slide_type": ""
    },
    "tags": []
   },
   "outputs": [
    {
     "name": "stdout",
     "output_type": "stream",
     "text": [
      "Cosmology(A_s_1e9=Array(51.601, dtype=float64),\n",
      "          n_s=Array(121.798, dtype=float64),\n",
      "          Omega_m=Array(569.083, dtype=float64),\n",
      "          Omega_b=Array(-1422.57, dtype=float64),\n",
      "          h=Array(361.472, dtype=float64),\n",
      "          Omega_k_=None,\n",
      "          w_0_=None,\n",
      "          w_a_=None,\n",
      "          transfer=None,\n",
      "          growth=None,\n",
      "          varlin=None)\n"
     ]
    }
   ],
   "source": [
    "print(cosmo_grad)"
   ]
  }
 ],
 "metadata": {
  "celltoolbar": "Slideshow",
  "kernelspec": {
   "display_name": "Python 3 (ipykernel)",
   "language": "python",
   "name": "python3"
  },
  "language_info": {
   "codemirror_mode": {
    "name": "ipython",
    "version": 3
   },
   "file_extension": ".py",
   "mimetype": "text/x-python",
   "name": "python",
   "nbconvert_exporter": "python",
   "pygments_lexer": "ipython3",
   "version": "3.10.10"
  }
 },
 "nbformat": 4,
 "nbformat_minor": 5
}
